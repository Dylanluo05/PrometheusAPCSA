{
 "cells": [
  {
   "cell_type": "markdown",
   "metadata": {},
   "source": [
    "# Java Conditional Statements Post\n",
    "> Java Conditional Statements\n",
    "\n",
    "- toc: true\n",
    "- description: Java conditional statements post for AP CSA\n",
    "- categories: [jupyter]\n",
    "- title: Java Conditional Statements Post\n",
    "- author: Dylan Luo\n",
    "- show_tags: true\n",
    "- comments: true"
   ]
  },
  {
   "cell_type": "markdown",
   "metadata": {},
   "source": [
    "Java if else statements are a type of conditional statement. If the Java if statement evaluates to true, it will perform a specific action designated to it. Otherwise, if it evaluates to false, it will perform another designated action."
   ]
  },
  {
   "cell_type": "code",
   "execution_count": 25,
   "metadata": {},
   "outputs": [
    {
     "name": "stdout",
     "output_type": "stream",
     "text": [
      "Pick a school subject:\n",
      "----------------------\n",
      "Science Fact: The derivative of velocity is acceleration\n"
     ]
    }
   ],
   "source": [
    "import java.util.Scanner;\n",
    "import java.lang.Math;\n",
    "\n",
    "public class ifelse {\n",
    "    public static void main(String[] args) {\n",
    "        System.out.println(\"Pick a school subject:\");\n",
    "        System.out.println(\"----------------------\");\n",
    "        Scanner userInput = new Scanner(System.in);\n",
    "\n",
    "        String schoolSubject = userInput.nextLine();\n",
    "        String schoolSubjectNew = schoolSubject.toLowerCase();\n",
    "        if (schoolSubjectNew.equals(\"math\")) {\n",
    "            System.out.println(\"Math Fact: The only factors of a prime number is 1 and itself.\");\n",
    "        } else if (schoolSubjectNew.equals(\"english\")) {\n",
    "            System.out.println(\"English Fact: An independent clause is a statement of words that contains at least 1 subject and 1 verb.\");\n",
    "        } else if (schoolSubjectNew.equals(\"history\")) {\n",
    "            System.out.println(\"History Fact: The 1st president of the United States of America was George Washington.\");\n",
    "        } else if (schoolSubjectNew.equals(\"physical education\")) {\n",
    "            System.out.println(\"Physical Education Fact: Soccer is the best sport in the world!\");\n",
    "        } else if (schoolSubjectNew.equals(\"science\")) {\n",
    "            System.out.println(\"Science Fact: The derivative of velocity is acceleration\");\n",
    "        } else if (schoolSubjectNew.equals(\"computer science\")) {\n",
    "            System.out.println(\"Computer Science Fact: An if else statement performs an action if the condition is met, and performs another action if the condition is not met.\");\n",
    "        } else {\n",
    "            System.out.println(\"The school subject you typed was not found...\");\n",
    "            System.out.println(\"Miscellaneous Fact: Zach Lavine is one of the best NBA basketball players\");\n",
    "        }\n",
    "    }\n",
    "}\n",
    "\n",
    "ifelse.main(null);"
   ]
  },
  {
   "cell_type": "code",
   "execution_count": 26,
   "metadata": {},
   "outputs": [
    {
     "name": "stdout",
     "output_type": "stream",
     "text": [
      "Pick a school subject:\n",
      "----------------------\n",
      "Science Fact: The derivative of velocity is acceleration\n"
     ]
    }
   ],
   "source": [
    "import java.util.Scanner;\n",
    "import java.lang.Math;\n",
    "\n",
    "public class Switch {\n",
    "    public static void main(String[] args) {\n",
    "        System.out.println(\"Pick a school subject:\");\n",
    "        System.out.println(\"----------------------\");\n",
    "        Scanner userInput = new Scanner(System.in);\n",
    "        \n",
    "        String schoolSubject = userInput.nextLine();\n",
    "        String schoolSubjectNew = schoolSubject.toLowerCase();\n",
    "\n",
    "        switch(schoolSubjectNew) {\n",
    "            case \"math\":\n",
    "                System.out.println(\"Math Fact: The only factors of a prime number is 1 and itself.\");\n",
    "                break;\n",
    "            case \"english\":\n",
    "                System.out.println(\"English Fact: An independent clause is a statement of words that contains at least 1 subject and 1 verb.\");\n",
    "                break;\n",
    "            case \"history\":\n",
    "                System.out.println(\"History Fact: The 1st president of the United States of America was George Washington.\");\n",
    "                break;\n",
    "            case \"physical education\":\n",
    "                System.out.println(\"Physical Education Fact: Soccer is the best sport in the world!\");\n",
    "                break;\n",
    "            case \"science\":\n",
    "                System.out.println(\"Science Fact: The derivative of velocity is acceleration\");\n",
    "                break;\n",
    "            case \"computer science\":\n",
    "                System.out.println(\"Computer Science Fact: An if else statement performs an action if the condition is met, and performs another action if the condition is not met.\");\n",
    "                break;\n",
    "            default:\n",
    "                System.out.println(\"The school subject you typed was not found...\");\n",
    "                System.out.println(\"Miscellaneous Fact: Zach Lavine is one of the best NBA basketball players\");\n",
    "                break;\n",
    "        }\n",
    "    }\n",
    "}\n",
    "Switch.main(null);"
   ]
  },
  {
   "cell_type": "markdown",
   "metadata": {},
   "source": [
    "The De Morgan's Law basically uses the logical operators or, and, nor, and nand. For two conditions paired with an ||(or) operator, the program will evaluate to true if at least one of the conditions evaluates to true. For two conditions paired with an &&(and) operator, the program will only evaluate to true only if both of the conditions evaluate to true. For two conditions paired with a !(not) operator, the program is reversed, as it will print true if the condition evaluates to false, and print false if the condition evaluates to true."
   ]
  },
  {
   "cell_type": "code",
   "execution_count": 31,
   "metadata": {},
   "outputs": [
    {
     "name": "stdout",
     "output_type": "stream",
     "text": [
      "Type the length in minutes of your average work out:\n",
      "-----------------------------------------\n",
      "You are a beast\n"
     ]
    }
   ],
   "source": [
    "import java.util.Scanner;\n",
    "import java.lang.Math;\n",
    "\n",
    "public class DeMorgan1 {\n",
    "    public static void main(String[] args) {\n",
    "        System.out.println(\"Type the length in minutes of your average work out:\");\n",
    "        System.out.println(\"-----------------------------------------\");\n",
    "\n",
    "        Scanner userInput = new Scanner(System.in);\n",
    "        int minutesNew = userInput.nextInt();\n",
    "        if (minutesNew > 0 && minutesNew <= 60) {\n",
    "            System.out.println(\"Your average work outs should be a little longer unless it is really intense\");\n",
    "        } else if (minutesNew > 60 && minutesNew <= 120) {\n",
    "            System.out.println(\"Your work outs are at perfect length\");\n",
    "        } else if (minutesNew > 120 && minutesNew <= 210) {\n",
    "            System.out.println(\"Your work outs are at an above average length\");\n",
    "        } else {\n",
    "            System.out.println(\"You are a beast\");\n",
    "        }\n",
    "        \n",
    "    }\n",
    "}\n",
    "\n",
    "DeMorgan1.main(null);"
   ]
  },
  {
   "cell_type": "code",
   "execution_count": 9,
   "metadata": {},
   "outputs": [
    {
     "name": "stdout",
     "output_type": "stream",
     "text": [
      "Enter your first integer:\n",
      "-------------------------\n",
      "Enter your second integer:\n",
      "-------------------------\n",
      "Enter your third integer:\n",
      "-------------------------\n",
      "Enter your fourth integer:\n",
      "-------------------------\n",
      "Or Statement: True\n",
      "And Statement: True\n",
      "Nor Statement: False\n",
      "Nand Statement: False\n"
     ]
    }
   ],
   "source": [
    "import java.util.Scanner;\n",
    "import java.lang.Math;\n",
    "\n",
    "public class DeMorgan2 {\n",
    "    public static void main(String[] args) {\n",
    "        Scanner userInput = new Scanner(System.in);\n",
    "        \n",
    "        System.out.println(\"Enter your first integer:\");\n",
    "        System.out.println(\"-------------------------\");\n",
    "        int numberOne = userInput.nextInt();\n",
    "\n",
    "        System.out.println(\"Enter your second integer:\");\n",
    "        System.out.println(\"-------------------------\");\n",
    "        int numberTwo = userInput.nextInt();\n",
    "\n",
    "        boolean booleanValue1 = numberOne == numberTwo;\n",
    "\n",
    "        System.out.println(\"Enter your third integer:\");\n",
    "        System.out.println(\"-------------------------\");\n",
    "        int numberThree = userInput.nextInt();\n",
    "\n",
    "        System.out.println(\"Enter your fourth integer:\");\n",
    "        System.out.println(\"-------------------------\");\n",
    "        int numberFour = userInput.nextInt();\n",
    "\n",
    "        boolean booleanValue2 = numberThree == numberFour;\n",
    "\n",
    "        if (booleanValue1 || booleanValue2) {\n",
    "            System.out.println(\"Or Statement: True\");\n",
    "        } else {\n",
    "            System.out.println(\"Or Statement: False\");\n",
    "        } \n",
    "        \n",
    "        if (booleanValue1 && booleanValue2){\n",
    "            System.out.println(\"And Statement: True\");\n",
    "        } else {\n",
    "            System.out.println(\"And Statement: False\");\n",
    "        }\n",
    "\n",
    "        if (!(booleanValue1 || booleanValue2)){\n",
    "            System.out.println(\"Nor Statement: True\");\n",
    "        } else {\n",
    "            System.out.println(\"Nor Statement: False\");\n",
    "        }\n",
    "\n",
    "        if (!(booleanValue1 && booleanValue2)){\n",
    "            System.out.println(\"Nand Statement: True\");\n",
    "        } else {\n",
    "            System.out.println(\"Nand Statement: False\");\n",
    "        }\n",
    "        \n",
    "    }\n",
    "}\n",
    "\n",
    "DeMorgan2.main(null);"
   ]
  }
 ],
 "metadata": {
  "kernelspec": {
   "display_name": "Java",
   "language": "java",
   "name": "java"
  },
  "language_info": {
   "codemirror_mode": "java",
   "file_extension": ".jshell",
   "mimetype": "text/x-java-source",
   "name": "java",
   "pygments_lexer": "java",
   "version": "11.0.16+8-post-Ubuntu-0ubuntu120.04"
  },
  "orig_nbformat": 4
 },
 "nbformat": 4,
 "nbformat_minor": 2
}
