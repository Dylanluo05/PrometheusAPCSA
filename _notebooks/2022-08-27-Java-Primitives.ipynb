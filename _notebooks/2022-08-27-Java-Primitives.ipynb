{
 "cells": [
  {
   "cell_type": "markdown",
   "metadata": {},
   "source": [
    "# Week 1 - Java Primitives Post\n",
    "> Week 1 - Java Primitives Post\n",
    "\n",
    "- toc: true\n",
    "- description: Blog Post Demonstrating Java Primitives for AP CSA\n",
    "- categories: [jupyter]\n",
    "- title: Week 1 - Java Primitives Post\n",
    "- author: Dylan Luo\n",
    "- show_tags: true\n",
    "- comments: true"
   ]
  },
  {
   "cell_type": "markdown",
   "metadata": {},
   "source": [
    "Java Primitives"
   ]
  },
  {
   "cell_type": "code",
   "execution_count": 13,
   "metadata": {},
   "outputs": [
    {
     "name": "stdout",
     "output_type": "stream",
     "text": [
      "7\n",
      "3.14159265358979\n",
      "true\n",
      "Hello, World!\n",
      "Type your first integer:\n",
      "Type your second integer:\n",
      "Type the desired mathematical operator:\n",
      "7 plus 8 equals 15\n",
      "Type your first integer:\n",
      "Type your second integer:\n",
      "Type the desired mathematical operator:\n",
      "11 subtracted by 1 equals 10\n",
      "Type your first integer:\n",
      "Type your second integer:\n",
      "Type the desired mathematical operator:\n",
      "7 multiplied by 7 equals 49\n",
      "Type your first integer:\n",
      "Type your second integer:\n",
      "Type the desired mathematical operator:\n",
      "121 divided by 11 equals 11.0\n",
      "Type your first integer:\n",
      "Type your second integer:\n",
      "Type the desired mathematical operator:\n",
      "11 modulus 5 equals 1\n"
     ]
    }
   ],
   "source": [
    "import java.util.Scanner;\n",
    "\n",
    "public class primitives {\n",
    "    public static void main(String[] args) {\n",
    "        // int is for integers\n",
    "        int x = 7;\n",
    "        System.out.println(x);\n",
    "        // double is for numbers with decimals\n",
    "        double pi = 3.14159265358979;\n",
    "        System.out.println(pi);\n",
    "        // boolean has two return values, which are usually true and false\n",
    "        boolean y = true;\n",
    "        System.out.println(y);\n",
    "        // String is for text values\n",
    "        String z = \"Hello, World!\";\n",
    "        System.out.println(z);\n",
    "        \n",
    "        for (int a = 0; a < 5; a++) {\n",
    "            Scanner userInput1 = new Scanner(System.in);\n",
    "            System.out.println(\"Type your first integer:\");\n",
    "            int first = userInput1.nextInt();\n",
    "            System.out.println(\"Type your second integer:\");\n",
    "            int second = userInput1.nextInt();\n",
    "\n",
    "            Scanner userInput2 = new Scanner(System.in);\n",
    "            System.out.println(\"Type the desired mathematical operator:\");\n",
    "            String operator = userInput2.nextLine();\n",
    "            String operatorNew = operator.toLowerCase();\n",
    "\n",
    "            if (operatorNew.equals(\"addition\")) {\n",
    "                int sum = first + second;\n",
    "                System.out.println(first + \" plus \" + second + \" equals \" + sum);\n",
    "            } else if (operatorNew.equals(\"subtraction\")) {\n",
    "                int difference = first - second;\n",
    "                System.out.println(first + \" subtracted by \" + second + \" equals \" + difference);\n",
    "            } else if (operatorNew.equals(\"multiplication\")) {\n",
    "                int product = first * second;\n",
    "                System.out.println(first + \" multiplied by \" + second + \" equals \" + product);\n",
    "            } else if (operatorNew.equals(\"division\")) {\n",
    "                double quotient = (double) first / (double) second;\n",
    "                System.out.println(first + \" divided by \" + second + \" equals \" + quotient);\n",
    "            } else if (operatorNew.equals(\"modulation\")) {\n",
    "                int modResult = first % second;\n",
    "                System.out.println(first + \" modulus \" + second + \" equals \" + modResult);\n",
    "            }\n",
    "        }\n",
    "    }\n",
    "}\n",
    "primitives.main(null);"
   ]
  },
  {
   "cell_type": "markdown",
   "metadata": {},
   "source": [
    "Java Compound Operators"
   ]
  },
  {
   "cell_type": "code",
   "execution_count": 1,
   "metadata": {},
   "outputs": [
    {
     "name": "stdout",
     "output_type": "stream",
     "text": [
      "14\n",
      "16\n",
      "6.28\n",
      "3.14\n"
     ]
    }
   ],
   "source": [
    "public class javaCompound {\n",
    "    public static void main(String[] args) {\n",
    "        // Initial Values\n",
    "        int x = 7;\n",
    "        int y = 8;\n",
    "        double a = 3.14;\n",
    "        double b = 6.28;\n",
    "        \n",
    "        // The compound operators modify values\n",
    "        x += 7;\n",
    "        y += 8;\n",
    "        a *= 2;\n",
    "        b /= 2;\n",
    "\n",
    "        System.out.println(x);\n",
    "        System.out.println(y);\n",
    "        System.out.println(a);\n",
    "        System.out.println(b);\n",
    "    }\n",
    "}\n",
    "javaCompound.main(null);"
   ]
  },
  {
   "cell_type": "markdown",
   "metadata": {},
   "source": [
    "GPA Calculator"
   ]
  },
  {
   "cell_type": "code",
   "execution_count": 33,
   "metadata": {},
   "outputs": [
    {
     "name": "stdout",
     "output_type": "stream",
     "text": [
      "Trimester GPA Calculator\n",
      "Enter the number of classes this trimester or the most recent trimester with final grades:\n",
      "8 classes\n",
      "Enter Class Grades:\n",
      "\n",
      "A\n",
      "A\n",
      "B\n",
      "A\n",
      "A\n",
      "B\n",
      "A\n",
      "A\n",
      "Your Overall GPA: 3.75\n"
     ]
    }
   ],
   "source": [
    "import java.util.Scanner;\n",
    "\n",
    "public class GPACalculator {\n",
    "    public static void main(String[] args) {\n",
    "        System.out.println(\"Trimester GPA Calculator\");\n",
    "        Scanner userInput = new Scanner(System.in);\n",
    "        int sum = 0;\n",
    "        System.out.println(\"Enter the number of classes this trimester or the most recent trimester with final grades:\");\n",
    "        int classes = userInput.nextInt();\n",
    "        System.out.println(classes + \" classes\");\n",
    "        System.out.println(\"Enter Class Grades:\");\n",
    "        for (int i = 0; i <= classes; i++) {\n",
    "            int gpa = 0;\n",
    "            String grade = userInput.nextLine();\n",
    "            System.out.println(grade);\n",
    "            if (grade.equals(\"A\")) {\n",
    "                gpa = 4;\n",
    "            } else if (grade.equals(\"B\")) {\n",
    "                gpa = 3;\n",
    "            } else if (grade.equals(\"C\")) {\n",
    "                gpa = 2;\n",
    "            } else if (grade.equals(\"D\")) {\n",
    "                gpa = 1;\n",
    "            } else if (grade.equals(\"F\")) {\n",
    "                gpa = 0;\n",
    "            }\n",
    "            sum = sum + gpa;\n",
    "        }\n",
    "\n",
    "        float gpaWhole = (float) sum/(float) classes;\n",
    "\n",
    "        System.out.println(\"Your Overall GPA: \" + gpaWhole);\n",
    "    }\n",
    "}\n",
    "\n",
    "GPACalculator.main(null);"
   ]
  }
 ],
 "metadata": {
  "kernelspec": {
   "display_name": "Java",
   "language": "java",
   "name": "java"
  },
  "language_info": {
   "codemirror_mode": "java",
   "file_extension": ".jshell",
   "mimetype": "text/x-java-source",
   "name": "java",
   "pygments_lexer": "java",
   "version": "11.0.16+8-post-Ubuntu-0ubuntu120.04"
  },
  "orig_nbformat": 4,
  "vscode": {
   "interpreter": {
    "hash": "916dbcbb3f70747c44a77c7bcd40155683ae19c65e1c03b4aa3499c5328201f1"
   }
  }
 },
 "nbformat": 4,
 "nbformat_minor": 2
}
