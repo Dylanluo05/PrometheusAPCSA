{
 "cells": [
  {
   "cell_type": "markdown",
   "metadata": {},
   "source": [
    "# Fibonacci Post\n",
    "> Fibonacci Post\n",
    "\n",
    "- toc: true\n",
    "- description: Fibonacci post for AP CSA\n",
    "- categories: [jupyter]\n",
    "- title: Fibonacci Post\n",
    "- author: Dylan Luo\n",
    "- show_tags: true\n",
    "- comments: true"
   ]
  },
  {
   "cell_type": "code",
   "execution_count": 4,
   "metadata": {},
   "outputs": [
    {
     "name": "stdout",
     "output_type": "stream",
     "text": [
      "Enter an integer for n to get the nth integer of the Fibonacci Sequence:\n",
      "Using a for loop:\n",
      "Computational Time (In Microseconds): 7.409\n",
      "Fibonacci array with n integers: [0, 1, 1, 2, 3, 5, 8, 13]\n",
      "The nth integer of the Fibonacci sequence: 13\n",
      "Using a while loop:\n",
      "Computational Time (In Microseconds): 4.479\n",
      "Fibonacci array with n integers: [0, 1, 1, 2, 3, 5, 8, 13]\n",
      "The nth integer of the Fibonacci sequence: 13\n",
      "Using a recursion loop:\n",
      "Computational Time (In Microseconds): 13.698\n",
      "The nth integer of the Fibonacci sequence: 13\n"
     ]
    }
   ],
   "source": [
    "import java.util.Scanner;\n",
    "import java.util.Arrays;\n",
    "import java.lang.System;\n",
    "\n",
    "public class Fibonacci {\n",
    "    public void checkNthPosition() {\n",
    "        Scanner userInput = new Scanner(System.in);\n",
    "        System.out.println(\"Enter an integer for n to get the nth integer of the Fibonacci Sequence:\");\n",
    "        int n = userInput.nextInt();\n",
    "        forLoop(n);\n",
    "        whileLoop(n);\n",
    "        long timeStartRecursion = System.nanoTime();\n",
    "        recursion(n);\n",
    "        double timeElapsedRecursion = (double) (System.nanoTime() - timeStartRecursion)/ (double) (1000);\n",
    "        System.out.println(\"Using a recursion loop:\");\n",
    "        System.out.println(\"Computational Time (In Microseconds): \" + timeElapsedRecursion);\n",
    "        System.out.println(\"The nth integer of the Fibonacci sequence: \" + recursion(n));\n",
    "    }\n",
    "\n",
    "    public int forLoop(int n) {\n",
    "        long timeStart = System.nanoTime(); \n",
    "        int[] fiboArray = new int[]{0, 1};\n",
    "        if (n == 0) {\n",
    "            fiboArray = Arrays.copyOf(fiboArray, fiboArray.length - 1);\n",
    "        } else if (n == 1) {\n",
    "            fiboArray = fiboArray;\n",
    "        } else if (n > 1) {\n",
    "            fiboArray = Arrays.copyOf(fiboArray, n + 1);\n",
    "            for (int i = 2; i <= n; i++) {\n",
    "                fiboArray[i] = fiboArray[i - 2] + fiboArray[i - 1];\n",
    "            }\n",
    "        }\n",
    "        double timeElapsed = (double) (System.nanoTime() - timeStart)/ (double) (1000);\n",
    "        String fiboArrayPrint = Arrays.toString(fiboArray);\n",
    "        System.out.println(\"Using a for loop:\");\n",
    "        System.out.println(\"Computational Time (In Microseconds): \" + timeElapsed);\n",
    "        System.out.println(\"Fibonacci array with n integers: \" + fiboArrayPrint);\n",
    "        System.out.println(\"The nth integer of the Fibonacci sequence: \" + fiboArray[n]);\n",
    "        return fiboArray[n];\n",
    "    }\n",
    "\n",
    "    public int whileLoop(int n) {\n",
    "        long timeStart = System.nanoTime();\n",
    "        int[] fiboArray = new int[]{0, 1};\n",
    "        if (n == 0) {\n",
    "            fiboArray = Arrays.copyOf(fiboArray, fiboArray.length - 1);\n",
    "        } else if (n == 1) {\n",
    "            fiboArray = fiboArray;\n",
    "        } else if (n > 1) {\n",
    "            fiboArray = Arrays.copyOf(fiboArray, n + 1);\n",
    "            int i = 2;\n",
    "            while (i <= n) {\n",
    "                fiboArray[i] = fiboArray[i - 2] + fiboArray[i - 1];\n",
    "                i++;\n",
    "            }\n",
    "        }\n",
    "        double timeElapsed = (double) (System.nanoTime() - timeStart)/ (double) (1000);\n",
    "        String fiboArrayPrint = Arrays.toString(fiboArray);\n",
    "        System.out.println(\"Using a while loop:\");\n",
    "        System.out.println(\"Computational Time (In Microseconds): \" + timeElapsed);\n",
    "        System.out.println(\"Fibonacci array with n integers: \" + fiboArrayPrint);\n",
    "        System.out.println(\"The nth integer of the Fibonacci sequence: \" + fiboArray[n]);\n",
    "        return fiboArray[n];\n",
    "    }\n",
    "\n",
    "    public int recursion(int n) {\n",
    "        if (n == 0) {\n",
    "            return 0;\n",
    "        } else if (n == 1) {\n",
    "            return 1;\n",
    "        }\n",
    "        return recursion(n-2) + recursion(n-1);\n",
    "    }\n",
    "\n",
    "    \n",
    "}\n",
    "\n",
    "public class Fibo extends Fibonacci {\n",
    "    public static void main(String[] args) {\n",
    "        Fibonacci play = new Fibonacci();\n",
    "        play.checkNthPosition();\n",
    "    }\n",
    "}\n",
    "Fibo.main(null);"
   ]
  },
  {
   "cell_type": "markdown",
   "metadata": {},
   "source": [
    "# Questions\n",
    "1. Skill 1.B: Determine code that would be used to complete code segments (i.e. For, While, Recursion).\n",
    "* To complete the code segments, I used loop statements such as for, while, and recursion.\n",
    "\n",
    "2. Skill 4.C: Determine if two or more code segments yield equivalent results (Be sure to discuss how you know the results are the same).\n",
    "* All code segments yield the same results, because although they are different kinds of statements, they essentially use the same operations and ultimately return the same result.\n",
    "\n",
    "3. Skill 5.A: Describe the behavior of a given segment of program code (Describe the different in recursion versus for and while loops; perhaps add timing to determine speed).\n",
    "* Using the timeStart and timeElapsed variables to determine the computational time of each program code, I found out the the recursion loop takes slightly longer than the for and while loops. This is likely because it has to calculate a lot of the values due to the multiple return statements it has. The for and whiles loops likely took less time because their caching methods (Appending values to and iterating through arrays) are faster."
   ]
  }
 ],
 "metadata": {
  "kernelspec": {
   "display_name": "Java",
   "language": "java",
   "name": "java"
  },
  "language_info": {
   "codemirror_mode": "java",
   "file_extension": ".jshell",
   "mimetype": "text/x-java-source",
   "name": "java",
   "pygments_lexer": "java",
   "version": "11.0.16+8-post-Ubuntu-0ubuntu120.04"
  },
  "orig_nbformat": 4,
  "vscode": {
   "interpreter": {
    "hash": "916dbcbb3f70747c44a77c7bcd40155683ae19c65e1c03b4aa3499c5328201f1"
   }
  }
 },
 "nbformat": 4,
 "nbformat_minor": 2
}
